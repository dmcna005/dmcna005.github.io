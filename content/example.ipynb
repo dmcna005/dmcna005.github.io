{
 "cells": [
  {
   "cell_type": "code",
   "execution_count": 1,
   "id": "c4440f05",
   "metadata": {},
   "outputs": [],
   "source": [
    "import os\n",
    "import openai"
   ]
  },
  {
   "cell_type": "code",
   "execution_count": 2,
   "id": "7266085a",
   "metadata": {},
   "outputs": [],
   "source": [
    "openai.api_key = os.getenv('OPENAI_API_KEY')"
   ]
  },
  {
   "cell_type": "code",
   "execution_count": 6,
   "id": "6638861c",
   "metadata": {},
   "outputs": [
    {
     "name": "stdout",
     "output_type": "stream",
     "text": [
      "Requirement already satisfied: GitPython in /Users/Dwayne/opt/anaconda3/lib/python3.9/site-packages (3.1.31)\r\n",
      "Requirement already satisfied: gitdb<5,>=4.0.1 in /Users/Dwayne/opt/anaconda3/lib/python3.9/site-packages (from GitPython) (4.0.10)\r\n",
      "Requirement already satisfied: smmap<6,>=3.0.1 in /Users/Dwayne/opt/anaconda3/lib/python3.9/site-packages (from gitdb<5,>=4.0.1->GitPython) (5.0.0)\r\n"
     ]
    }
   ],
   "source": [
    "!pip install GitPython"
   ]
  },
  {
   "cell_type": "code",
   "execution_count": 7,
   "id": "c19b32c2",
   "metadata": {},
   "outputs": [],
   "source": [
    "from git import Repo"
   ]
  },
  {
   "cell_type": "code",
   "execution_count": 10,
   "id": "42dfac9e",
   "metadata": {},
   "outputs": [],
   "source": [
    "from pathlib import Path"
   ]
  },
  {
   "cell_type": "code",
   "execution_count": 11,
   "id": "1961b30f",
   "metadata": {},
   "outputs": [
    {
     "data": {
      "text/plain": [
       "'/Users/Dwayne/dmcna005/dmcna005.github.io/content'"
      ]
     },
     "execution_count": 11,
     "metadata": {},
     "output_type": "execute_result"
    }
   ],
   "source": [
    "pwd"
   ]
  },
  {
   "cell_type": "code",
   "execution_count": 12,
   "id": "de4346e6",
   "metadata": {},
   "outputs": [],
   "source": [
    "PATH_TO_BLOG_REPO = Path('/Users/Dwayne/dmcna005/dmcna005.github.io/git')"
   ]
  },
  {
   "cell_type": "code",
   "execution_count": 13,
   "id": "b68434f4",
   "metadata": {},
   "outputs": [],
   "source": [
    "PATH_TO_BLOG = PATH_TO_BLOG_REPO.parent"
   ]
  },
  {
   "cell_type": "code",
   "execution_count": 14,
   "id": "18b572bc",
   "metadata": {},
   "outputs": [
    {
     "name": "stdout",
     "output_type": "stream",
     "text": [
      "/Users/Dwayne/dmcna005/dmcna005.github.io\n"
     ]
    }
   ],
   "source": [
    "print(PATH_TO_BLOG)"
   ]
  },
  {
   "cell_type": "code",
   "execution_count": 16,
   "id": "e8bd7902",
   "metadata": {},
   "outputs": [],
   "source": [
    "PATH_TO_CONTENT = PATH_TO_BLOG/'content'"
   ]
  },
  {
   "cell_type": "code",
   "execution_count": 20,
   "id": "b94de212",
   "metadata": {},
   "outputs": [],
   "source": [
    "PATH_TO_CONTENT.mkdir(exist_ok=True, parents=True)"
   ]
  },
  {
   "cell_type": "code",
   "execution_count": 21,
   "id": "9fd30f3e",
   "metadata": {},
   "outputs": [],
   "source": [
    "def update_blog(commit_message='updated blog'):\n",
    "    repo = Repo(PATH_TO_BLOG)\n",
    "    repo.git.add(all=True)\n",
    "    repo.index.commit(commit_message)\n",
    "    origin = repo.remote(name='origin')\n",
    "    origin.push()"
   ]
  },
  {
   "cell_type": "code",
   "execution_count": 22,
   "id": "e315e3a4",
   "metadata": {},
   "outputs": [],
   "source": [
    "random_text_string = 'ghandgiengeoohghgteoeo'"
   ]
  },
  {
   "cell_type": "code",
   "execution_count": 23,
   "id": "bfcbadaf",
   "metadata": {},
   "outputs": [],
   "source": [
    "with open(PATH_TO_BLOG/'index.html', 'w') as f:\n",
    "    f.write(random_text_string)"
   ]
  },
  {
   "cell_type": "code",
   "execution_count": null,
   "id": "04daa422",
   "metadata": {},
   "outputs": [],
   "source": [
    "update_blog('this is a test')"
   ]
  }
 ],
 "metadata": {
  "kernelspec": {
   "display_name": "Python 3 (ipykernel)",
   "language": "python",
   "name": "python3"
  },
  "language_info": {
   "codemirror_mode": {
    "name": "ipython",
    "version": 3
   },
   "file_extension": ".py",
   "mimetype": "text/x-python",
   "name": "python",
   "nbconvert_exporter": "python",
   "pygments_lexer": "ipython3",
   "version": "3.9.13"
  }
 },
 "nbformat": 4,
 "nbformat_minor": 5
}
