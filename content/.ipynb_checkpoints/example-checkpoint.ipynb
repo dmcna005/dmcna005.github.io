{
 "cells": [
  {
   "cell_type": "code",
   "execution_count": 1,
   "id": "2feb966e",
   "metadata": {},
   "outputs": [],
   "source": [
    "import os\n",
    "import openai"
   ]
  },
  {
   "cell_type": "code",
   "execution_count": 2,
   "id": "ff5d9cc5",
   "metadata": {},
   "outputs": [],
   "source": [
    "openai.api_key = os.getenv('OPENAI_API_KEY')"
   ]
  },
  {
   "cell_type": "code",
   "execution_count": 6,
   "id": "6e6bb45d",
   "metadata": {},
   "outputs": [
    {
     "name": "stdout",
     "output_type": "stream",
     "text": [
      "Requirement already satisfied: GitPython in /Users/Dwayne/opt/anaconda3/lib/python3.9/site-packages (3.1.31)\r\n",
      "Requirement already satisfied: gitdb<5,>=4.0.1 in /Users/Dwayne/opt/anaconda3/lib/python3.9/site-packages (from GitPython) (4.0.10)\r\n",
      "Requirement already satisfied: smmap<6,>=3.0.1 in /Users/Dwayne/opt/anaconda3/lib/python3.9/site-packages (from gitdb<5,>=4.0.1->GitPython) (5.0.0)\r\n"
     ]
    }
   ],
   "source": [
    "!pip install GitPython"
   ]
  },
  {
   "cell_type": "code",
   "execution_count": 7,
   "id": "3f8e64fe",
   "metadata": {},
   "outputs": [],
   "source": [
    "from git import Repo"
   ]
  },
  {
   "cell_type": "code",
   "execution_count": 10,
   "id": "f7e69f89",
   "metadata": {},
   "outputs": [],
   "source": [
    "from pathlib import Path"
   ]
  },
  {
   "cell_type": "code",
   "execution_count": 11,
   "id": "4e3a9d4b",
   "metadata": {},
   "outputs": [
    {
     "data": {
      "text/plain": [
       "'/Users/Dwayne/dmcna005/dmcna005.github.io/content'"
      ]
     },
     "execution_count": 11,
     "metadata": {},
     "output_type": "execute_result"
    }
   ],
   "source": [
    "pwd"
   ]
  },
  {
   "cell_type": "code",
   "execution_count": null,
   "id": "27c627ca",
   "metadata": {},
   "outputs": [],
   "source": []
  }
 ],
 "metadata": {
  "kernelspec": {
   "display_name": "Python 3 (ipykernel)",
   "language": "python",
   "name": "python3"
  },
  "language_info": {
   "codemirror_mode": {
    "name": "ipython",
    "version": 3
   },
   "file_extension": ".py",
   "mimetype": "text/x-python",
   "name": "python",
   "nbconvert_exporter": "python",
   "pygments_lexer": "ipython3",
   "version": "3.9.13"
  }
 },
 "nbformat": 4,
 "nbformat_minor": 5
}
